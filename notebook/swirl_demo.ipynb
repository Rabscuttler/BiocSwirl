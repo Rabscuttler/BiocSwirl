{
 "cells": [
  {
   "cell_type": "code",
   "execution_count": 1,
   "metadata": {
    "ExecuteTime": {
     "end_time": "2020-05-23T17:32:29.255558Z",
     "start_time": "2020-05-23T17:32:21.457664Z"
    }
   },
   "outputs": [
    {
     "name": "stdout",
     "output_type": "stream",
     "text": [
      "Looking in indexes: https://registry.affirm-stage.com/artifactory/api/pypi/pypi/simple\n",
      "Looking in links: file:///mnt/pip/wheelhouse\n",
      "Requirement already up-to-date: pip in /home/benson/fpna/.virtualenvs/fpna/lib/python3.7/site-packages (20.1.1)\n",
      "Looking in indexes: https://registry.affirm-stage.com/artifactory/api/pypi/pypi/simple\n",
      "Looking in links: file:///mnt/pip/wheelhouse\n",
      "Requirement already up-to-date: numpy in /home/benson/fpna/.virtualenvs/fpna/lib/python3.7/site-packages (1.18.4)\n",
      "Requirement already up-to-date: pandas in /home/benson/fpna/.virtualenvs/fpna/lib/python3.7/site-packages (1.0.3)\n",
      "Requirement already satisfied, skipping upgrade: python-dateutil>=2.6.1 in /home/benson/fpna/.virtualenvs/fpna/lib/python3.7/site-packages (from pandas) (2.8.1)\n",
      "Requirement already satisfied, skipping upgrade: pytz>=2017.2 in /home/benson/fpna/.virtualenvs/fpna/lib/python3.7/site-packages (from pandas) (2020.1)\n",
      "Requirement already satisfied, skipping upgrade: six>=1.5 in /home/benson/fpna/.virtualenvs/fpna/lib/python3.7/site-packages (from python-dateutil>=2.6.1->pandas) (1.14.0)\n"
     ]
    }
   ],
   "source": [
    "# download latest version of pip, numpy, pandas if desired\n",
    "!pip install --upgrade pip\n",
    "!pip install --upgrade numpy pandas"
   ]
  },
  {
   "cell_type": "code",
   "execution_count": 2,
   "metadata": {
    "ExecuteTime": {
     "end_time": "2020-05-22T20:25:37.477607Z",
     "start_time": "2020-05-22T20:25:36.085613Z"
    }
   },
   "outputs": [],
   "source": [
    "import yaml\n",
    "import os\n",
    "\n",
    "import random\n",
    "import numpy as np\n",
    "import pandas as pd\n",
    "import matplotlib.pyplot as plt\n",
    "import re\n",
    "from sklearn.decomposition import PCA\n",
    "\n",
    "import seaborn as sns"
   ]
  },
  {
   "cell_type": "markdown",
   "metadata": {},
   "source": [
    "## Some setup"
   ]
  },
  {
   "cell_type": "code",
   "execution_count": 3,
   "metadata": {
    "ExecuteTime": {
     "end_time": "2020-05-23T17:32:48.001404Z",
     "start_time": "2020-05-23T17:32:47.998253Z"
    }
   },
   "outputs": [],
   "source": [
    "rand_incorr = [\"Not quite, but you're learning! Try again.\", \n",
    "               \"That's not the answer I was looking for, but try again.\",\n",
    "               \"Not exactly. Give it another go.\",\n",
    "               \"You're close...I can feel it! Try it again.\",\n",
    "               \"Nice try, but that's not exactly what I was hoping for. Try again.\",\n",
    "               \"One more time. You can do it!\"]\n",
    "\n",
    "rand_corr = [\"Excellent job!\",\n",
    "             \"Nice job!\",\n",
    "             \"You got it!\"]"
   ]
  },
  {
   "cell_type": "code",
   "execution_count": 4,
   "metadata": {
    "ExecuteTime": {
     "end_time": "2020-05-23T17:32:57.310850Z",
     "start_time": "2020-05-23T17:32:57.303419Z"
    },
    "scrolled": false
   },
   "outputs": [],
   "source": [
    "# Parse lesson\n",
    "def process_lesson(yaml):\n",
    "    idx = 0\n",
    "    repeat_q_flag = False\n",
    "    idx_lesson = len(lesson)\n",
    "    while idx < idx_lesson:\n",
    "        if lesson[idx]['Class'] == 'meta':\n",
    "            proc_meta(lesson[idx])\n",
    "            idx += 1\n",
    "        elif lesson[idx]['Class'] == 'text':\n",
    "            proc_text(lesson[idx])\n",
    "            idx += 1\n",
    "        elif lesson[idx]['Class'] == 'mult_question':\n",
    "            corr = proc_mult_choice(lesson[idx], repeat_q_flag)\n",
    "            repeat_q_flag = not corr\n",
    "            idx += int(corr)    \n",
    "        elif lesson[idx]['Class'] in ['cmd_question', 'script']:\n",
    "#             print(lesson[idx])\n",
    "            corr = proc_script(lesson[idx], repeat_q_flag)\n",
    "            repeat_q_flag = not corr\n",
    "            idx += int(corr)\n",
    "        else:\n",
    "            print(\"UNK!!\")\n",
    "            print(lesson[idx])\n",
    "            idx += 1\n",
    "            \n",
    "    print(\"Congrats on completing the lesson!\")"
   ]
  },
  {
   "cell_type": "code",
   "execution_count": 5,
   "metadata": {
    "ExecuteTime": {
     "end_time": "2020-05-23T17:32:58.331073Z",
     "start_time": "2020-05-23T17:32:58.317178Z"
    },
    "scrolled": true
   },
   "outputs": [],
   "source": [
    "def proc_meta(d: dict):\n",
    "    \"\"\"\n",
    "    Processes metadata associated with lesson bank\n",
    "    \"\"\"\n",
    "    for k, v in d.items():\n",
    "        if k != 'Class':\n",
    "            print(f'{k}: {v}')\n",
    "    return 1\n",
    "\n",
    "def proc_text(d: dict):\n",
    "    \"\"\"\n",
    "    Processes text information for question\n",
    "    \"\"\"\n",
    "    for k, v in d.items():\n",
    "        if k == 'Output':\n",
    "            print(f'{v}')\n",
    "            input(\"Press Enter to continue...\")\n",
    "        print(\"\\n\")\n",
    "        \n",
    "    return 1\n",
    "        \n",
    "def proc_mult_choice(d: dict, repeat_q: bool):\n",
    "    \"\"\"\n",
    "    Prompts user for multiple choice question\n",
    "    \"\"\"\n",
    "    for k, v in d.items():\n",
    "        if k in ['Output', 'AnswerChoices'] and not repeat_q:\n",
    "            if k == 'AnswerChoices':\n",
    "                choices = '\\n'.join(v.split(';'))\n",
    "                print(f\"Choices: \\n\\n{choices}\")\n",
    "            else:\n",
    "                print(f'{v}')\n",
    "        elif k == 'Hint' and repeat_q:\n",
    "            print(f'Hint: {v}')\n",
    "        elif k == 'CorrectAnswer':\n",
    "            ans = v\n",
    "#         else:\n",
    "#             print(f\"Unk: {k}, {v}\")\n",
    "            \n",
    "    guess = input(\"> \")\n",
    "    \n",
    "    # perhaps need to consider numerical precision here; not sure if symbolic evaluation would be nice\n",
    "    if guess.isnumeric():\n",
    "        match = guess == ans\n",
    "    else:\n",
    "        match = re.sub('[\"|\\']', '\\'', re.sub('[^A-Za-z0-9]+', '', guess.upper())) == re.sub('[\"|\\']', '\\'', re.sub('[^A-Za-z0-9]+', '', ans.upper()))\n",
    "        \n",
    "    if match:\n",
    "        print(random.choice(rand_corr))\n",
    "    else:\n",
    "        print(random.choice(rand_incorr))\n",
    "        \n",
    "    return match\n",
    "\n",
    "def proc_script(d: dict, repeat_q: bool):\n",
    "    \"\"\"\n",
    "    Prompts user for question requiring response\n",
    "    \"\"\"\n",
    "    for k, v in d.items():\n",
    "        if k in ['Output', 'AnswerChoices'] and not repeat_q:\n",
    "            if k == 'Answer Choices':\n",
    "                choices = '\\n'.join(v.split(';'))\n",
    "                print(f\"Choices: \\n\\n{choices}\")\n",
    "            else:\n",
    "                print(f'{v}')\n",
    "        elif k == 'Hint' and repeat_q:\n",
    "            print(f'Hint: {v}')\n",
    "        elif k == 'CorrectAnswer':\n",
    "            ans = v\n",
    "            \n",
    "    guess = input(\"> \")\n",
    "    \n",
    "    # perhaps need to consider numerical precision here; not sure if symbolic evaluation would be nice\n",
    "    match = re.sub('[\"|\\']', '\\'', guess) == re.sub('[\"|\\']', '\\'', ans)\n",
    "        \n",
    "    if match:\n",
    "        print(random.choice(rand_corr))\n",
    "    else:\n",
    "        print(random.choice(rand_incorr))\n",
    "        \n",
    "    return match"
   ]
  },
  {
   "cell_type": "markdown",
   "metadata": {},
   "source": [
    "## Start running stuff"
   ]
  },
  {
   "cell_type": "code",
   "execution_count": 6,
   "metadata": {
    "ExecuteTime": {
     "end_time": "2020-05-23T17:33:14.995968Z",
     "start_time": "2020-05-23T17:33:14.992044Z"
    }
   },
   "outputs": [
    {
     "name": "stdout",
     "output_type": "stream",
     "text": [
      "The following courses are available .. \n",
      "\n",
      "Session-contents.md\n",
      "fastq_trimming\n",
      "Examine_DESEq2_results\n",
      "Pathway_Analysis\n",
      "k-Means\n",
      "Heatmap\n",
      "Introduction\n",
      "DESeq2\n",
      "fastq_download\n",
      "PCA\n",
      "Gene_Count_Pre-Processing\n",
      "Read_alignment_quantification\n"
     ]
    }
   ],
   "source": [
    "# List available courses\n",
    "# course_dir = '../courses-python/scRNA-seq/'\n",
    "course_dir = '../courses/rna_seq/'\n",
    "\n",
    "print(\"The following courses are available .. \\n\")\n",
    "print('\\n'.join([s for s in os.listdir(course_dir) if s != 'MANIFEST']))"
   ]
  },
  {
   "cell_type": "code",
   "execution_count": 11,
   "metadata": {
    "ExecuteTime": {
     "end_time": "2020-05-23T17:33:15.608008Z",
     "start_time": "2020-05-23T17:33:15.596366Z"
    },
    "scrolled": false
   },
   "outputs": [],
   "source": [
    "# Pick lesson to load\n",
    "# doesn't work with import data or high_level_analyses_intro_clustering; think clustering prob needs to be demo'd\n",
    "# since not convenional to do single line in python\n",
    "lesson_to_load = 'Examine_DESEq2_results'\n",
    "lesson = yaml.load(open(os.path.join(course_dir, lesson_to_load, 'lesson.yaml')), Loader=yaml.FullLoader)"
   ]
  },
  {
   "cell_type": "code",
   "execution_count": 12,
   "metadata": {
    "ExecuteTime": {
     "end_time": "2020-05-23T17:33:39.830947Z",
     "start_time": "2020-05-23T17:33:16.257492Z"
    }
   },
   "outputs": [
    {
     "name": "stdout",
     "output_type": "stream",
     "text": [
      "Course: RNA-seq analysis\n",
      "Lesson: Examine DESEq2 results\n",
      "Author: your name goes here\n",
      "Type: Standard\n",
      "Organization: your organization's name goes here\n",
      "Version: 2.4.5\n",
      "Histograms of pvalues are really useful diagnostic tools for RNA-seq data analyses. It is best to exclude genes with small counts (baseMean). Draw a histogram of res$pvalue where res$baseMean > 1\n",
      "> kfajl\n",
      "Not exactly. Give it another go.\n",
      "Hint: Try typing hist(res$pvalue[res$baseMean > 1])\n",
      "> hist(res$pvalue[res$baseMean > 1])\n",
      "You got it!\n",
      "UNK!!\n",
      "{'Class': 'figure', 'Output': 'Take a look at the histogram you made!', 'Figure': 'hist.R', 'FigureType': 'new'}\n",
      "\n",
      "\n",
      "Notice how the first bin (with the smallest p-values) contains the most genes. This is the typical distribution we would expect from our data. If the histogram doesn't look similar to this one, we might have to use different statistical tests for different hypotheses.\n",
      "Press Enter to continue...\n",
      "\n",
      "\n",
      "UNK!!\n",
      "{'Class': 'video', 'Output': 'For more information, check out this RNA-seq blog post!', 'VideoLink': 'https://seqqc.wordpress.com/2016/01/27/too-few-or-none-differential-expressed-genes-a-way-to-fix-the-null-hypothesis-in-deseq2/'}\n",
      "\n",
      "\n",
      "Next, we can plot the normalized counts (expression) for single genes across the different experimental conditions. This is really helpful for looking at control genes and assessing the success of the experiment. For example, in a knockdown experiment, you can check if the expression of that gene actually decreased.\n",
      "Press Enter to continue...\n",
      "\n",
      "\n",
      "For this dataset, let's take a look at IL6. You can use the DESEq2 function plotCounts() to extract and plot counts for specific genes (using the attribute gene=). Try it out!\n",
      "> plotCounts()\n",
      "Nice try, but that's not exactly what I was hoping for. Try again.\n",
      "Hint: Try typing plotCounts(dds, gene = \"IL6\")\n",
      "> plotCounts(dds, gene = \"IL6\")\n",
      "Nice job!\n",
      "UNK!!\n",
      "{'Class': 'figure', 'Output': 'Take a look at the normalized counts for IL6', 'Figure': 'counts_IL6.R', 'FigureType': 'new'}\n",
      "UNK!!\n",
      "{'Class': 'text_question', 'Output': 'In which condition is IL6 expressed more highly?', 'CorrectAnswer': 'treatment', 'AnswerTests': \"val_matches('[T|t]reatment')\", 'Hint': \"It's the treatment, shown on the right side of the plot.\"}\n",
      "Congrats on completing the lesson!\n"
     ]
    }
   ],
   "source": [
    "process_lesson(lesson)"
   ]
  },
  {
   "cell_type": "code",
   "execution_count": null,
   "metadata": {},
   "outputs": [],
   "source": []
  }
 ],
 "metadata": {
  "kernelspec": {
   "display_name": "Python 3",
   "language": "python",
   "name": "python3"
  },
  "language_info": {
   "codemirror_mode": {
    "name": "ipython",
    "version": 3
   },
   "file_extension": ".py",
   "mimetype": "text/x-python",
   "name": "python",
   "nbconvert_exporter": "python",
   "pygments_lexer": "ipython3",
   "version": "3.7.5"
  },
  "toc": {
   "nav_menu": {},
   "number_sections": true,
   "sideBar": true,
   "skip_h1_title": false,
   "toc_cell": false,
   "toc_position": {},
   "toc_section_display": "block",
   "toc_window_display": false
  },
  "varInspector": {
   "cols": {
    "lenName": 16,
    "lenType": 16,
    "lenVar": 40
   },
   "kernels_config": {
    "python": {
     "delete_cmd_postfix": "",
     "delete_cmd_prefix": "del ",
     "library": "var_list.py",
     "varRefreshCmd": "print(var_dic_list())"
    },
    "r": {
     "delete_cmd_postfix": ") ",
     "delete_cmd_prefix": "rm(",
     "library": "var_list.r",
     "varRefreshCmd": "cat(var_dic_list()) "
    }
   },
   "types_to_exclude": [
    "module",
    "function",
    "builtin_function_or_method",
    "instance",
    "_Feature"
   ],
   "window_display": false
  }
 },
 "nbformat": 4,
 "nbformat_minor": 4
}
